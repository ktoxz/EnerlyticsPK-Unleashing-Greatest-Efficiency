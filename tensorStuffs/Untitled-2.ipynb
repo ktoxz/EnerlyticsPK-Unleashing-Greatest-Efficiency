{
 "cells": [
  {
   "cell_type": "code",
   "execution_count": 1,
   "metadata": {},
   "outputs": [],
   "source": [
    "import pandas as pd\n",
    "import matplotlib.pyplot as plt\n",
    "import numpy as np\n",
    "import tensorflow as tf"
   ]
  },
  {
   "cell_type": "code",
   "execution_count": 2,
   "metadata": {},
   "outputs": [],
   "source": [
    "import tensorflowjs as tfjs\n"
   ]
  },
  {
   "cell_type": "code",
   "execution_count": 3,
   "metadata": {},
   "outputs": [],
   "source": [
    "#Load the training file and label\n",
    "df = pd.read_csv('Cleaned_Electricity_Data.csv')\n",
    "df = df.drop(columns = ['index', 'Date','Time'])\n",
    "ytrain = df.drop(columns=['Voltage', 'Global_intensity','Sub_metering_1','Sub_metering_2','Sub_metering_3'])\n",
    "df = df.drop(columns = ['Global_reactive_power','Global_active_power'])\n",
    "\n",
    "#Load the validation file and label\n",
    "dfeval = pd.read_csv('PredictingValue.csv')\n",
    "dfeval = dfeval.drop(columns = ['index', 'Date','Time'])\n",
    "yeval = dfeval.drop(columns=['Voltage', 'Global_intensity','Sub_metering_1','Sub_metering_2','Sub_metering_3'])\n",
    "dfeval = dfeval.drop(columns = ['Global_reactive_power','Global_active_power'])"
   ]
  },
  {
   "cell_type": "code",
   "execution_count": 5,
   "metadata": {},
   "outputs": [],
   "source": [
    "def build_model(my_learning_rate):\n",
    "    model = tf.keras.models.Sequential()\n",
    "    model.add(tf.keras.layers.Dense(units=10,\n",
    "                                  input_shape=(5,)))\n",
    "    model.add(tf.keras.layers.Dense(units = 10))\n",
    "    model.add(tf.keras.layers.Dense(units=2))\n",
    "    model.compile(optimizer=tf.keras.optimizers.experimental.RMSprop(learning_rate=my_learning_rate),\n",
    "                loss=\"mean_squared_error\",\n",
    "                metrics=[tf.keras.metrics.RootMeanSquaredError()])\n",
    "   \n",
    "    return model\n",
    "\n",
    "def train_model(model, feature, label, epochs, batch_size):\n",
    "    history = model.fit(x=feature,\n",
    "                      y=label,\n",
    "                      batch_size=batch_size,\n",
    "                      epochs=epochs)\n",
    "    trained_weight = model.get_weights()[0]\n",
    "    trained_bias = model.get_weights()[1]\n",
    "    epochs = history.epoch\n",
    "    hist = pd.DataFrame(history.history)\n",
    "    rmse = hist[\"root_mean_squared_error\"]\n",
    "    return trained_weight, trained_bias, epochs, rmse"
   ]
  },
  {
   "cell_type": "code",
   "execution_count": 6,
   "metadata": {},
   "outputs": [
    {
     "name": "stdout",
     "output_type": "stream",
     "text": [
      "Epoch 1/20\n",
      "1283/1283 [==============================] - 5s 3ms/step - loss: 20.9526 - root_mean_squared_error: 4.5774\n",
      "Epoch 2/20\n",
      "1283/1283 [==============================] - 3s 2ms/step - loss: 0.0503 - root_mean_squared_error: 0.2244\n",
      "Epoch 3/20\n",
      "1283/1283 [==============================] - 2s 2ms/step - loss: 0.0199 - root_mean_squared_error: 0.1410\n",
      "Epoch 4/20\n",
      "1283/1283 [==============================] - 2s 2ms/step - loss: 0.0161 - root_mean_squared_error: 0.1268\n",
      "Epoch 5/20\n",
      "1283/1283 [==============================] - 3s 2ms/step - loss: 0.0146 - root_mean_squared_error: 0.1206\n",
      "Epoch 6/20\n",
      "1283/1283 [==============================] - 4s 3ms/step - loss: 0.0134 - root_mean_squared_error: 0.1157\n",
      "Epoch 7/20\n",
      "1283/1283 [==============================] - 3s 2ms/step - loss: 0.0124 - root_mean_squared_error: 0.1114\n",
      "Epoch 8/20\n",
      "1283/1283 [==============================] - 3s 3ms/step - loss: 0.0115 - root_mean_squared_error: 0.1074\n",
      "Epoch 9/20\n",
      "1283/1283 [==============================] - 3s 2ms/step - loss: 0.0110 - root_mean_squared_error: 0.1051\n",
      "Epoch 10/20\n",
      "1283/1283 [==============================] - 2s 2ms/step - loss: 0.0107 - root_mean_squared_error: 0.1035\n",
      "Epoch 11/20\n",
      "1283/1283 [==============================] - 3s 2ms/step - loss: 0.0103 - root_mean_squared_error: 0.1015\n",
      "Epoch 12/20\n",
      "1283/1283 [==============================] - 2s 2ms/step - loss: 0.0100 - root_mean_squared_error: 0.1001\n",
      "Epoch 13/20\n",
      "1283/1283 [==============================] - 2s 2ms/step - loss: 0.0095 - root_mean_squared_error: 0.0977\n",
      "Epoch 14/20\n",
      "1283/1283 [==============================] - 3s 2ms/step - loss: 0.0093 - root_mean_squared_error: 0.0966\n",
      "Epoch 15/20\n",
      "1283/1283 [==============================] - 3s 2ms/step - loss: 0.0092 - root_mean_squared_error: 0.0961\n",
      "Epoch 16/20\n",
      "1283/1283 [==============================] - 3s 2ms/step - loss: 0.0092 - root_mean_squared_error: 0.0959\n",
      "Epoch 17/20\n",
      "1283/1283 [==============================] - 2s 2ms/step - loss: 0.0091 - root_mean_squared_error: 0.0954\n",
      "Epoch 18/20\n",
      "1283/1283 [==============================] - 2s 2ms/step - loss: 0.0091 - root_mean_squared_error: 0.0954\n",
      "Epoch 19/20\n",
      "1283/1283 [==============================] - 2s 2ms/step - loss: 0.0090 - root_mean_squared_error: 0.0950\n",
      "Epoch 20/20\n",
      "1283/1283 [==============================] - 2s 2ms/step - loss: 0.0090 - root_mean_squared_error: 0.0948\n"
     ]
    }
   ],
   "source": [
    "learning_rate=0.005\n",
    "epochs=20\n",
    "my_batch_size=200\n",
    "\n",
    "#Train the model\n",
    "my_model = build_model(learning_rate)\n",
    "trained_weight, trained_bias, epochs, rmse = train_model(my_model, df,\n",
    "                                                         ytrain, epochs,\n",
    "                                                         my_batch_size)"
   ]
  },
  {
   "cell_type": "code",
   "execution_count": 7,
   "metadata": {},
   "outputs": [
    {
     "name": "stderr",
     "output_type": "stream",
     "text": [
      "WARNING:absl:Found untraced functions such as _update_step_xla while saving (showing 1 of 1). These functions will not be directly callable after loading.\n"
     ]
    },
    {
     "name": "stdout",
     "output_type": "stream",
     "text": [
      "INFO:tensorflow:Assets written to: my_model2\\assets\n"
     ]
    },
    {
     "name": "stderr",
     "output_type": "stream",
     "text": [
      "INFO:tensorflow:Assets written to: my_model2\\assets\n"
     ]
    }
   ],
   "source": [
    "# Save the TensorFlow model\n",
    "my_model.save(\"my_model2\")\n",
    "# Convert and save the model in TensorFlow.js format\n",
    "tfjs.converters.save_keras_model(my_model, \"tfjs_model2\")"
   ]
  }
 ],
 "metadata": {
  "kernelspec": {
   "display_name": "Python 3",
   "language": "python",
   "name": "python3"
  },
  "language_info": {
   "codemirror_mode": {
    "name": "ipython",
    "version": 3
   },
   "file_extension": ".py",
   "mimetype": "text/x-python",
   "name": "python",
   "nbconvert_exporter": "python",
   "pygments_lexer": "ipython3",
   "version": "3.11.4"
  },
  "orig_nbformat": 4
 },
 "nbformat": 4,
 "nbformat_minor": 2
}
